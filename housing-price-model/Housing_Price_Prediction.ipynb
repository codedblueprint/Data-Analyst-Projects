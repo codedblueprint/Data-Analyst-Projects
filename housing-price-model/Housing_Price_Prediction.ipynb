{
 "cells": [
  {
   "cell_type": "markdown",
   "id": "c370c322",
   "metadata": {},
   "source": [
    "# 🏠 Housing Price Prediction - Advanced Regression\n",
    "\n",
    "This notebook walks through predicting housing prices using machine learning regression models.\n",
    "\n",
    "**Dataset:** [Kaggle: House Prices - Advanced Regression Techniques](https://www.kaggle.com/c/house-prices-advanced-regression-techniques)\n",
    "\n",
    "**Skills:**\n",
    "- Data preprocessing\n",
    "- Feature engineering\n",
    "- Linear, Ridge, and Lasso regression\n",
    "- Cross-validation\n",
    "- Feature importance visualization\n"
   ]
  },
  {
   "cell_type": "code",
   "execution_count": null,
   "id": "d153eb6c",
   "metadata": {},
   "outputs": [],
   "source": [
    "import pandas as pd\n",
    "import numpy as np\n",
    "import matplotlib.pyplot as plt\n",
    "import seaborn as sns\n",
    "from sklearn.model_selection import train_test_split, GridSearchCV\n",
    "from sklearn.linear_model import LinearRegression, Ridge, Lasso\n",
    "from sklearn.metrics import mean_squared_error\n",
    "\n",
    "# Load dataset\n",
    "df = pd.read_csv(\"train.csv\")\n",
    "df.head()\n"
   ]
  },
  {
   "cell_type": "code",
   "execution_count": null,
   "id": "2b1a83c6",
   "metadata": {},
   "outputs": [],
   "source": [
    "# Drop high-missing columns\n",
    "df.drop(['Alley', 'PoolQC', 'Fence', 'MiscFeature'], axis=1, inplace=True)\n",
    "\n",
    "# Fill missing values\n",
    "df.fillna(df.median(numeric_only=True), inplace=True)\n",
    "\n",
    "# Convert categoricals to dummies\n",
    "df = pd.get_dummies(df)\n",
    "\n",
    "# Prepare data\n",
    "X = df.drop(\"SalePrice\", axis=1)\n",
    "y = df[\"SalePrice\"]\n",
    "X_train, X_test, y_train, y_test = train_test_split(X, y, test_size=0.2, random_state=42)\n"
   ]
  },
  {
   "cell_type": "code",
   "execution_count": null,
   "id": "7db35148",
   "metadata": {},
   "outputs": [],
   "source": [
    "lr = LinearRegression()\n",
    "lr.fit(X_train, y_train)\n",
    "preds = lr.predict(X_test)\n",
    "print(\"Linear Regression RMSE:\", np.sqrt(mean_squared_error(y_test, preds)))\n"
   ]
  },
  {
   "cell_type": "code",
   "execution_count": null,
   "id": "35641520",
   "metadata": {},
   "outputs": [],
   "source": [
    "# Ridge tuning\n",
    "ridge_grid = GridSearchCV(Ridge(), {'alpha': [0.01, 0.1, 1, 10, 100]}, scoring='neg_root_mean_squared_error', cv=5)\n",
    "ridge_grid.fit(X_train, y_train)\n",
    "print(\"Best Ridge alpha:\", ridge_grid.best_params_['alpha'])\n",
    "\n",
    "# Lasso tuning\n",
    "lasso_grid = GridSearchCV(Lasso(), {'alpha': [0.001, 0.01, 0.1, 1]}, scoring='neg_root_mean_squared_error', cv=5)\n",
    "lasso_grid.fit(X_train, y_train)\n",
    "print(\"Best Lasso alpha:\", lasso_grid.best_params_['alpha'])\n"
   ]
  },
  {
   "cell_type": "code",
   "execution_count": null,
   "id": "a3314828",
   "metadata": {},
   "outputs": [],
   "source": [
    "# Ridge Feature Importance\n",
    "ridge = Ridge(alpha=ridge_grid.best_params_['alpha'])\n",
    "ridge.fit(X_train, y_train)\n",
    "\n",
    "coef = ridge.coef_\n",
    "features = X.columns\n",
    "top_idx = np.argsort(np.abs(coef))[-20:]\n",
    "\n",
    "plt.figure(figsize=(10, 6))\n",
    "plt.barh(features[top_idx], coef[top_idx])\n",
    "plt.title(\"Top 20 Feature Importances (Ridge)\")\n",
    "plt.xlabel(\"Coefficient\")\n",
    "plt.tight_layout()\n",
    "plt.show()\n"
   ]
  }
 ],
 "metadata": {},
 "nbformat": 4,
 "nbformat_minor": 5
}